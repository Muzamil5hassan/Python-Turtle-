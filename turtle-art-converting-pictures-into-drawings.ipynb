{
 "cells": [
  {
   "cell_type": "markdown",
   "metadata": {
    "_cell_guid": "b1076dfc-b9ad-4769-8c92-a6c4dae69d19",
    "_uuid": "8f2839f25d086af736a60e9eeb907d3b93b6e0e5"
   },
   "source": [
    "## Importing Libraries  \n",
    "Load OpenCV, NumPy, and Turtle for image processing and drawing.\n"
   ]
  },
  {
   "cell_type": "code",
   "execution_count": null,
   "metadata": {},
   "outputs": [],
   "source": [
    "import cv2\n",
    "import numpy as np\n",
    "import turtle"
   ]
  },
  {
   "cell_type": "markdown",
   "metadata": {},
   "source": [
    "## Image Quality Selection  \n",
    "Prompt the user to choose image quality:  \n",
    "- `0` for best quality  \n",
    "- `1` for low quality  \n",
    "- `2` to display both images before selection  \n"
   ]
  },
  {
   "cell_type": "code",
   "execution_count": null,
   "metadata": {},
   "outputs": [],
   "source": [
    "def image_quality():\n",
    "    print('enter 0 for best quality: \\nenter 1 for low quality : \\nenter 2 to show both images: (First close the images windows to process) ')\n",
    "    x=int(input(\"please enter: \"))\n",
    "    if x==2:\n",
    "        show_images()\n",
    "        return image_quality()\n",
    "    \n",
    "    return x"
   ]
  },
  {
   "cell_type": "markdown",
   "metadata": {},
   "source": [
    "## Display Images  \n",
    "Show both image versions (best and low quality) before selection.  \n",
    "Close the image windows to proceed.  \n"
   ]
  },
  {
   "cell_type": "code",
   "execution_count": null,
   "metadata": {},
   "outputs": [],
   "source": [
    "def show_images():\n",
    "# show both images before selecting \n",
    "    cv2.imshow(f'best quality  .jpg', cv2.bitwise_not(edges))\n",
    "    cv2.imshow(f'low quality  .jpg', cv2.bitwise_not(edges_binary))    \n",
    "    cv2.waitKey(0)\n",
    "    "
   ]
  },
  {
   "cell_type": "markdown",
   "metadata": {},
   "source": [
    "## Pen Lift Logic  \n",
    "Determine whether the turtle should lift the pen based on the proximity of the previous and current points.  \n"
   ]
  },
  {
   "cell_type": "code",
   "execution_count": null,
   "metadata": {},
   "outputs": [],
   "source": [
    "def pen_up(x,y,prev_x,prev_y):\n",
    "    if (prev_x<x+10 and prev_x>x-10 or prev_x==x) and (prev_y<y+10 and prev_y>y-10 or prev_y==y):\n",
    "        return False\n",
    "    return True"
   ]
  },
  {
   "cell_type": "markdown",
   "metadata": {},
   "source": [
    "## Image Processing and Turtle Drawing  \n",
    "\n",
    "1. **Load and Convert Image**  \n",
    "   - Load the image and convert it to grayscale.  \n",
    "   - Apply binary thresholding for a black-and-white effect.  \n",
    "   - Detect edges using Canny edge detection.  \n",
    "\n",
    "2. **User Quality Selection**  \n",
    "   - Choose between best or low-quality contours for drawing.  \n",
    "   - Display images for comparison before selection.  \n",
    "\n",
    "3. **Find Contours**  \n",
    "   - Extract contours from the selected image for turtle drawing.  \n",
    "\n",
    "4. **Initialize Turtle**  \n",
    "   - Set up the turtle screen with adjusted coordinates.  \n",
    "   - Map image coordinates to turtle's drawing space.  \n",
    "\n",
    "5. **Draw Image with Turtle**  \n",
    "   - Iterate through contours and draw them using the turtle.  \n",
    "   - Lift the pen when needed to avoid unwanted connections.  \n",
    "\n",
    "6. **Complete the Drawing**  \n",
    "   - Execute the turtle drawing and display the final output.  \n"
   ]
  },
  {
   "cell_type": "code",
   "execution_count": null,
   "metadata": {},
   "outputs": [],
   "source": [
    "\n",
    "# Load the image\n",
    "image_path = r\"scorpio.png\"\n",
    "\n",
    "image = cv2.imread(image_path)\n",
    "\n",
    "# Step 2: Convert the image to grayscale\n",
    "gray = cv2.cvtColor(image, cv2.COLOR_BGR2GRAY)\n",
    "\n",
    "# # Step 3: Apply binary thresholding to create a pure black-and-white image\n",
    "_, binary = cv2.threshold(gray, thresh=127, maxval=255, type=cv2.THRESH_BINARY)\n",
    "\n",
    "# Edge detection\n",
    "edges_binary = cv2.Canny(binary, 100, 200)\n",
    "\n",
    "# Step 2: Extract edges using Canny edge detection\n",
    "edges = cv2.Canny(gray , 100, 200)\n",
    "\n",
    "QIP = image_quality()\n",
    "cv2.destroyAllWindows()\n",
    "\n",
    "\n",
    "\n",
    "# Find contours\n",
    "contours0, _ = cv2.findContours(edges, cv2.RETR_EXTERNAL, cv2.CHAIN_APPROX_SIMPLE)\n",
    "\n",
    "contours1, _ = cv2.findContours(edges_binary, cv2.RETR_EXTERNAL, cv2.CHAIN_APPROX_SIMPLE)\n",
    "\n",
    "contours=[contours0,contours1]\n",
    "\n",
    "\n",
    "# Get image dimensions\n",
    "height, width = gray.shape\n",
    "print('height= ', height ,'width= ',width)\n",
    "\n",
    "\n",
    "# Initialize turtle\n",
    "screen = turtle.Screen()\n",
    "\n",
    "# Adjust world coordinates to fit content in the screen\n",
    "screen.setworldcoordinates(-width//2, -height//2, width//2, height//2)  # Adjust as needed\n",
    "t = turtle.Turtle()\n",
    "t.speed(100)\n",
    "t.penup()\n",
    "\n",
    "# Function to map image coordinates to turtle coordinates\n",
    "def map_coords(x, y, width, height):\n",
    "    return (x - width // 2, height // 2 - y)\n",
    "\n",
    "\n",
    "# to it first time \n",
    "for contour in contours[QIP]:\n",
    "    for point in contour:\n",
    "        x, y = point[0]\n",
    "        mapped_x, mapped_y = map_coords(x, y, width, height)\n",
    "        \n",
    "        prev_x=mapped_x\n",
    "        prev_y=mapped_y\n",
    "        break\n",
    "        break\n",
    "\n",
    "# Draw contours with turtle\n",
    "for contour in contours[QIP]:\n",
    "    for point in contour:\n",
    "        x, y = point[0]\n",
    "        mapped_x, mapped_y = map_coords(x, y, width, height)\n",
    "        print('x =',mapped_x, '  prev x=',prev_x,'  y=',mapped_y,'  prev Y=',prev_y )\n",
    "        if pen_up(mapped_x,mapped_y,prev_x,prev_y):\n",
    "            t.penup()\n",
    "        t.goto(mapped_x, mapped_y)\n",
    "        t.pendown()\n",
    "        \n",
    "        prev_x=mapped_x\n",
    "        prev_y=mapped_y\n",
    "        \n",
    "        \n",
    "\n",
    "turtle.done()\n"
   ]
  },
  {
   "cell_type": "code",
   "execution_count": null,
   "metadata": {},
   "outputs": [],
   "source": []
  }
 ],
 "metadata": {
  "kernelspec": {
   "display_name": "Python 3 (ipykernel)",
   "language": "python",
   "name": "python3"
  },
  "language_info": {
   "codemirror_mode": {
    "name": "ipython",
    "version": 3
   },
   "file_extension": ".py",
   "mimetype": "text/x-python",
   "name": "python",
   "nbconvert_exporter": "python",
   "pygments_lexer": "ipython3",
   "version": "3.11.5"
  }
 },
 "nbformat": 4,
 "nbformat_minor": 4
}
